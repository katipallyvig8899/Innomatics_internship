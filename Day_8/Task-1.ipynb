{
 "cells": [
  {
   "cell_type": "code",
   "execution_count": 1,
   "metadata": {},
   "outputs": [],
   "source": [
    "import os\n",
    "import math\n",
    "import numpy as np\n",
    "import pandas as pd\n",
    "import matplotlib.pyplot as plt\n",
    "import seaborn as sns\n",
    "\n",
    "from IPython.display import HTML,display\n",
    "import statsmodels.api as sm\n",
    "from statsmodels.formula.api import ols\n",
    "from statsmodels.sandbox.regression.predstd import wls_prediction_std\n",
    "\n",
    "%matplotlib inline"
   ]
  },
  {
   "cell_type": "code",
   "execution_count": 2,
   "metadata": {},
   "outputs": [
    {
     "data": {
      "text/html": [
       "<div>\n",
       "<style scoped>\n",
       "    .dataframe tbody tr th:only-of-type {\n",
       "        vertical-align: middle;\n",
       "    }\n",
       "\n",
       "    .dataframe tbody tr th {\n",
       "        vertical-align: top;\n",
       "    }\n",
       "\n",
       "    .dataframe thead th {\n",
       "        text-align: right;\n",
       "    }\n",
       "</style>\n",
       "<table border=\"1\" class=\"dataframe\">\n",
       "  <thead>\n",
       "    <tr style=\"text-align: right;\">\n",
       "      <th></th>\n",
       "      <th>Mthly_HH_Income</th>\n",
       "      <th>Mthly_HH_Expense</th>\n",
       "      <th>No_of_Fly_Members</th>\n",
       "      <th>Emi_or_Rent_Amt</th>\n",
       "      <th>Annual_HH_Income</th>\n",
       "      <th>Highest_Qualified_Member</th>\n",
       "      <th>No_of_Earning_Members</th>\n",
       "    </tr>\n",
       "  </thead>\n",
       "  <tbody>\n",
       "    <tr>\n",
       "      <th>0</th>\n",
       "      <td>5000</td>\n",
       "      <td>8000</td>\n",
       "      <td>3</td>\n",
       "      <td>2000</td>\n",
       "      <td>64200</td>\n",
       "      <td>Under-Graduate</td>\n",
       "      <td>1</td>\n",
       "    </tr>\n",
       "    <tr>\n",
       "      <th>1</th>\n",
       "      <td>6000</td>\n",
       "      <td>7000</td>\n",
       "      <td>2</td>\n",
       "      <td>3000</td>\n",
       "      <td>79920</td>\n",
       "      <td>Illiterate</td>\n",
       "      <td>1</td>\n",
       "    </tr>\n",
       "    <tr>\n",
       "      <th>2</th>\n",
       "      <td>10000</td>\n",
       "      <td>4500</td>\n",
       "      <td>2</td>\n",
       "      <td>0</td>\n",
       "      <td>112800</td>\n",
       "      <td>Under-Graduate</td>\n",
       "      <td>1</td>\n",
       "    </tr>\n",
       "    <tr>\n",
       "      <th>3</th>\n",
       "      <td>10000</td>\n",
       "      <td>2000</td>\n",
       "      <td>1</td>\n",
       "      <td>0</td>\n",
       "      <td>97200</td>\n",
       "      <td>Illiterate</td>\n",
       "      <td>1</td>\n",
       "    </tr>\n",
       "    <tr>\n",
       "      <th>4</th>\n",
       "      <td>12500</td>\n",
       "      <td>12000</td>\n",
       "      <td>2</td>\n",
       "      <td>3000</td>\n",
       "      <td>147000</td>\n",
       "      <td>Graduate</td>\n",
       "      <td>1</td>\n",
       "    </tr>\n",
       "  </tbody>\n",
       "</table>\n",
       "</div>"
      ],
      "text/plain": [
       "   Mthly_HH_Income  Mthly_HH_Expense  No_of_Fly_Members  Emi_or_Rent_Amt  \\\n",
       "0             5000              8000                  3             2000   \n",
       "1             6000              7000                  2             3000   \n",
       "2            10000              4500                  2                0   \n",
       "3            10000              2000                  1                0   \n",
       "4            12500             12000                  2             3000   \n",
       "\n",
       "   Annual_HH_Income Highest_Qualified_Member  No_of_Earning_Members  \n",
       "0             64200           Under-Graduate                      1  \n",
       "1             79920               Illiterate                      1  \n",
       "2            112800           Under-Graduate                      1  \n",
       "3             97200               Illiterate                      1  \n",
       "4            147000                 Graduate                      1  "
      ]
     },
     "execution_count": 2,
     "metadata": {},
     "output_type": "execute_result"
    }
   ],
   "source": [
    "os.chdir(\"A:\\DATA\\Programms\")\n",
    "data=pd.read_csv(\"Data.csv\")\n",
    "data.head()"
   ]
  },
  {
   "cell_type": "code",
   "execution_count": 3,
   "metadata": {},
   "outputs": [
    {
     "name": "stdout",
     "output_type": "stream",
     "text": [
      "<class 'pandas.core.frame.DataFrame'>\n",
      "RangeIndex: 50 entries, 0 to 49\n",
      "Data columns (total 7 columns):\n",
      " #   Column                    Non-Null Count  Dtype \n",
      "---  ------                    --------------  ----- \n",
      " 0   Mthly_HH_Income           50 non-null     int64 \n",
      " 1   Mthly_HH_Expense          50 non-null     int64 \n",
      " 2   No_of_Fly_Members         50 non-null     int64 \n",
      " 3   Emi_or_Rent_Amt           50 non-null     int64 \n",
      " 4   Annual_HH_Income          50 non-null     int64 \n",
      " 5   Highest_Qualified_Member  50 non-null     object\n",
      " 6   No_of_Earning_Members     50 non-null     int64 \n",
      "dtypes: int64(6), object(1)\n",
      "memory usage: 2.9+ KB\n"
     ]
    }
   ],
   "source": [
    "data.info()"
   ]
  },
  {
   "cell_type": "code",
   "execution_count": 4,
   "metadata": {},
   "outputs": [
    {
     "data": {
      "text/plain": [
       "Mthly_HH_Income             0\n",
       "Mthly_HH_Expense            0\n",
       "No_of_Fly_Members           0\n",
       "Emi_or_Rent_Amt             0\n",
       "Annual_HH_Income            0\n",
       "Highest_Qualified_Member    0\n",
       "No_of_Earning_Members       0\n",
       "dtype: int64"
      ]
     },
     "execution_count": 4,
     "metadata": {},
     "output_type": "execute_result"
    }
   ],
   "source": [
    "data.isnull().sum()"
   ]
  },
  {
   "cell_type": "markdown",
   "metadata": {},
   "source": [
    "# MEAN\n",
    "\n",
    "Function can be used to calculate mean/average of a given list of numbers. It returns mean of the data set passed as parameters.\n",
    "\n",
    "Arithmetic mean is the sum of data divided by the number of data-points. It is a measure of the central location of data in a set of values which vary in range. In Python, we usually do this by dividing the sum of given numbers with the count of number present.\n",
    "\n",
    "\n",
    "\n",
    "![pandas2_m0swmk.png](data:image/png;base64,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)"
   ]
  },
  {
   "cell_type": "code",
   "execution_count": 5,
   "metadata": {},
   "outputs": [
    {
     "name": "stdout",
     "output_type": "stream",
     "text": [
      "Mean of Mthly_HH_Income = 41558.0\n",
      "Mean of Mthly_HH_Expense = 18818.0\n",
      "Mean of No_of_Fly_Members = 4.06\n",
      "Mean of Emi_or_Rent_Amt = 3060.0\n",
      "Mean of Annual_HH_Income = 490019.04\n",
      "Mean of No_of_Earning_Members = 1.46\n"
     ]
    }
   ],
   "source": [
    "for i in data.columns:\n",
    "   if data[i].dtypes !='O':\n",
    "       count = 0\n",
    "       sum = 0\n",
    "       for lm in data[i]:\n",
    "           sum+=lm\n",
    "           count+=1\n",
    "       print(\"Mean of\",i,\"=\",sum/count)"
   ]
  },
  {
   "attachments": {
    "image.png": {
     "image/png": "[encoded data removed]"
    }
   },
   "cell_type": "markdown",
   "metadata": {},
   "source": [
    "# Median\n",
    "\n",
    "Median is the middle number in a sorted list of numbers. To determine the median value in a sequence of numbers, the numbers must first be sorted, or arranged, in value order from lowest to highest or highest to lowest. The median can be used to determine an approximate average, or mean, but is not to be confused with the actual mean.\n",
    "\n",
    "\n",
    "If there is an odd amount of numbers, the median value is the number that is in the middle, with the same amount of numbers below and above.\n",
    "If there is an even amount of numbers in the list, the middle pair must be determined, added together, and divided by two to find the median value.\n",
    "\n",
    "![image.png](attachment:image.png)\n"
   ]
  },
  {
   "cell_type": "code",
   "execution_count": 6,
   "metadata": {},
   "outputs": [
    {
     "name": "stdout",
     "output_type": "stream",
     "text": [
      "Median of Mthly_HH_Income is 35000.0\n",
      "Median of Mthly_HH_Expense is 15500.0\n",
      "Median of No_of_Fly_Members is 4.0\n",
      "Median of Emi_or_Rent_Amt is 0.0\n",
      "Median of Annual_HH_Income is 447420.0\n",
      "Median of No_of_Earning_Members is 1.0\n"
     ]
    }
   ],
   "source": [
    "n = len(data)\n",
    "for i in data.select_dtypes(exclude = ['object']):\n",
    "    S = sorted(data[i])\n",
    "    if n %2 == 0:\n",
    "        m1 = S[n//2]\n",
    "        m2 = S[n//2 - 1]\n",
    "        median = (m1+m2)/2\n",
    "    else:\n",
    "        median = S[n//2]\n",
    "    print('Median of {} is {}'.format(i,median))"
   ]
  },
  {
   "cell_type": "code",
   "execution_count": 7,
   "metadata": {},
   "outputs": [
    {
     "data": {
      "text/plain": [
       "Mthly_HH_Income           35000.0\n",
       "Mthly_HH_Expense          15500.0\n",
       "No_of_Fly_Members             4.0\n",
       "Emi_or_Rent_Amt               0.0\n",
       "Annual_HH_Income         447420.0\n",
       "No_of_Earning_Members         1.0\n",
       "dtype: float64"
      ]
     },
     "execution_count": 7,
     "metadata": {},
     "output_type": "execute_result"
    }
   ],
   "source": [
    "data.median()"
   ]
  },
  {
   "attachments": {
    "image.png": {
     "image/png": "[encoded data removed]"
    }
   },
   "cell_type": "markdown",
   "metadata": {},
   "source": [
    "# MODE\n",
    "The value occurring most frequently in a set of observations is its mode. In other words, the mode of data is the observation having the highest frequency in a set of data. There is a possibility that there exists more than one observation having the same frequency, i.e. a data set could have more than one mode. In such a case, the set of data is said to be multimodal.\n",
    "\n",
    "Example: The following table represents the number of wickets taken by a bowler in 10 matches. Find the mode of the given set of data.\n",
    "\n",
    "![image.png](attachment:image.png)\n"
   ]
  },
  {
   "cell_type": "code",
   "execution_count": 8,
   "metadata": {},
   "outputs": [
    {
     "name": "stdout",
     "output_type": "stream",
     "text": [
      "Mthly_HH_IncomeMode is 45000\n",
      "Mthly_HH_ExpenseMode is 25000\n",
      "No_of_Fly_MembersMode is 4\n",
      "Emi_or_Rent_AmtMode is 0\n",
      "Annual_HH_IncomeMode is 590400\n",
      "Highest_Qualified_MemberMode is Graduate\n",
      "No_of_Earning_MembersMode is 1\n"
     ]
    }
   ],
   "source": [
    "for col in data.columns:\n",
    "    n =0\n",
    "    l1 = []\n",
    "    l = list(data[col].unique())\n",
    "    for i in l:\n",
    "        a = list(data[col]).count(i)\n",
    "        if a not in l1:\n",
    "            l1.append(a)\n",
    "        mode_value = sorted(l1,reverse = True)[0]\n",
    "    for i in l:\n",
    "        a = list(data[col]).count(i)\n",
    "        if(a == mode_value):\n",
    "            print(col + \"Mode is\", i)\n",
    "            break"
   ]
  },
  {
   "cell_type": "code",
   "execution_count": 9,
   "metadata": {},
   "outputs": [
    {
     "data": {
      "text/html": [
       "<div>\n",
       "<style scoped>\n",
       "    .dataframe tbody tr th:only-of-type {\n",
       "        vertical-align: middle;\n",
       "    }\n",
       "\n",
       "    .dataframe tbody tr th {\n",
       "        vertical-align: top;\n",
       "    }\n",
       "\n",
       "    .dataframe thead th {\n",
       "        text-align: right;\n",
       "    }\n",
       "</style>\n",
       "<table border=\"1\" class=\"dataframe\">\n",
       "  <thead>\n",
       "    <tr style=\"text-align: right;\">\n",
       "      <th></th>\n",
       "      <th>Mthly_HH_Income</th>\n",
       "      <th>Mthly_HH_Expense</th>\n",
       "      <th>No_of_Fly_Members</th>\n",
       "      <th>Emi_or_Rent_Amt</th>\n",
       "      <th>Annual_HH_Income</th>\n",
       "      <th>Highest_Qualified_Member</th>\n",
       "      <th>No_of_Earning_Members</th>\n",
       "    </tr>\n",
       "  </thead>\n",
       "  <tbody>\n",
       "    <tr>\n",
       "      <th>0</th>\n",
       "      <td>45000</td>\n",
       "      <td>25000</td>\n",
       "      <td>4</td>\n",
       "      <td>0</td>\n",
       "      <td>590400</td>\n",
       "      <td>Graduate</td>\n",
       "      <td>1</td>\n",
       "    </tr>\n",
       "  </tbody>\n",
       "</table>\n",
       "</div>"
      ],
      "text/plain": [
       "   Mthly_HH_Income  Mthly_HH_Expense  No_of_Fly_Members  Emi_or_Rent_Amt  \\\n",
       "0            45000             25000                  4                0   \n",
       "\n",
       "   Annual_HH_Income Highest_Qualified_Member  No_of_Earning_Members  \n",
       "0            590400                 Graduate                      1  "
      ]
     },
     "execution_count": 9,
     "metadata": {},
     "output_type": "execute_result"
    }
   ],
   "source": [
    "data.mode()"
   ]
  },
  {
   "attachments": {
    "image-2.png": {
     "image/png": "[encoded data removed]"
    }
   },
   "cell_type": "markdown",
   "metadata": {},
   "source": [
    "# Variance\n",
    "\n",
    "To calculate the variance in a dataset, we first need to find the difference between each individual value and the mean. The variance is the average of the squares of those differences. We can express the variance with the following math expression:\n",
    "\n",
    "In this equation, xi stands for individual values or observations in a dataset. μ stands for the mean or average of those values. n is the number of values in the dataset.\n",
    "\n",
    "![image-2.png](attachment:image-2.png)\n",
    "\n",
    "The term xi - μ is called the deviation from the mean. So, the variance is the mean of square deviations. That's why we denoted it as σ2.\n",
    "\n"
   ]
  },
  {
   "cell_type": "code",
   "execution_count": 10,
   "metadata": {},
   "outputs": [
    {
     "name": "stdout",
     "output_type": "stream",
     "text": [
      "Variance is 681100853.0612245\n"
     ]
    }
   ],
   "source": [
    "sum = 0\n",
    "var = 0\n",
    "for i in range(len(data['Mthly_HH_Income'])):\n",
    "    sum =sum + data['Mthly_HH_Income'][i]\n",
    "n =len(data['Mthly_HH_Income'])\n",
    "mean = sum/n\n",
    "for i in range(len(data['Mthly_HH_Income'])):\n",
    "    var = var + (data['Mthly_HH_Income'][i] - mean)**2\n",
    "variance = var / (n-1)\n",
    "print(\"Variance is\",variance)"
   ]
  },
  {
   "attachments": {
    "image-2.png": {
     "image/png": "[encoded data removed]"
    }
   },
   "cell_type": "markdown",
   "metadata": {},
   "source": [
    "# Standard deviation\n",
    "In statistics, the standard deviation is a measure of the amount of variation or dispersion of a set of values. A low standard deviation indicates that the values tend to be close to the mean of the set, while a high standard deviation indicates that the values are spread out over a wider range.\n",
    "\n",
    "![image-2.png](attachment:image-2.png)\n",
    "\n",
    "\n",
    "\\sigma\t=\tpopulation standard deviation\n",
    "\n",
    "N\t=\tthe size of the population\n",
    "\n",
    "x_i\t=\teach value from the population\n",
    "\n",
    "\\mu\t=\tthe population mean"
   ]
  },
  {
   "cell_type": "code",
   "execution_count": 11,
   "metadata": {
    "scrolled": true
   },
   "outputs": [
    {
     "name": "stdout",
     "output_type": "stream",
     "text": [
      "Standard Deviation of sample is  25835.611779092826\n"
     ]
    }
   ],
   "source": [
    "observation = (data['Mthly_HH_Income'])\n",
    "sum=0\n",
    "for i in range(len(observation)):\n",
    "    sum+=observation[i]\n",
    "mean_of_observations = sum/len(observation)\n",
    "sum_of_squared_deviation = 0\n",
    "for i in range(len(observation)):\n",
    "    sum_of_squared_deviation+=(observation[i]- mean_of_observations)**2\n",
    "Standard_Deviation = ((sum_of_squared_deviation)/len(observation))**0.5\n",
    "print(\"Standard Deviation of sample is \",Standard_Deviation)"
   ]
  },
  {
   "attachments": {
    "image-2.png": {
     "image/png": "[encoded data removed]"
    }
   },
   "cell_type": "markdown",
   "metadata": {},
   "source": [
    "# Correlation\n",
    "It can be useful in data analysis and modeling to better understand the relationships between variables. The statistical relationship between two variables is referred to as their correlation.\n",
    "\n",
    "A correlation could be positive, meaning both variables move in the same direction, or negative, meaning that when one variable’s value increases, the other variables’ values decrease. Correlation can also be neutral or zero, meaning that the variables are unrelated.\n",
    "\n",
    "Positive Correlation: both variables change in the same direction.\n",
    "Neutral Correlation: No relationship in the change of the variables.\n",
    "Negative Correlation: variables change in opposite directions.\n",
    "\n",
    "![image-2.png](attachment:image-2.png)\n",
    "\n",
    " \n",
    "r\t=\tcorrelation coefficient\n",
    "\n",
    "x_{i}\t=\tvalues of the x-variable in a sample\n",
    "\n",
    "\\bar{x}\t=\tmean of the values of the x-variable\n",
    "\n",
    "y_{i}\t=\tvalues of the y-variable in a sample\n",
    "\n",
    "\\bar{y}\t=\tmean of the values of the y-variable"
   ]
  },
  {
   "cell_type": "code",
   "execution_count": 12,
   "metadata": {
    "scrolled": true
   },
   "outputs": [
    {
     "data": {
      "text/html": [
       "<div>\n",
       "<style scoped>\n",
       "    .dataframe tbody tr th:only-of-type {\n",
       "        vertical-align: middle;\n",
       "    }\n",
       "\n",
       "    .dataframe tbody tr th {\n",
       "        vertical-align: top;\n",
       "    }\n",
       "\n",
       "    .dataframe thead th {\n",
       "        text-align: right;\n",
       "    }\n",
       "</style>\n",
       "<table border=\"1\" class=\"dataframe\">\n",
       "  <thead>\n",
       "    <tr style=\"text-align: right;\">\n",
       "      <th></th>\n",
       "      <th>Mthly_HH_Income</th>\n",
       "      <th>Mthly_HH_Expense</th>\n",
       "      <th>No_of_Fly_Members</th>\n",
       "      <th>Emi_or_Rent_Amt</th>\n",
       "      <th>Annual_HH_Income</th>\n",
       "      <th>No_of_Earning_Members</th>\n",
       "    </tr>\n",
       "  </thead>\n",
       "  <tbody>\n",
       "    <tr>\n",
       "      <th>Mthly_HH_Income</th>\n",
       "      <td>1.000000</td>\n",
       "      <td>0.649215</td>\n",
       "      <td>0.448317</td>\n",
       "      <td>0.036976</td>\n",
       "      <td>0.970315</td>\n",
       "      <td>0.347883</td>\n",
       "    </tr>\n",
       "    <tr>\n",
       "      <th>Mthly_HH_Expense</th>\n",
       "      <td>0.649215</td>\n",
       "      <td>1.000000</td>\n",
       "      <td>0.639702</td>\n",
       "      <td>0.405280</td>\n",
       "      <td>0.591222</td>\n",
       "      <td>0.311915</td>\n",
       "    </tr>\n",
       "    <tr>\n",
       "      <th>No_of_Fly_Members</th>\n",
       "      <td>0.448317</td>\n",
       "      <td>0.639702</td>\n",
       "      <td>1.000000</td>\n",
       "      <td>0.085808</td>\n",
       "      <td>0.430868</td>\n",
       "      <td>0.597482</td>\n",
       "    </tr>\n",
       "    <tr>\n",
       "      <th>Emi_or_Rent_Amt</th>\n",
       "      <td>0.036976</td>\n",
       "      <td>0.405280</td>\n",
       "      <td>0.085808</td>\n",
       "      <td>1.000000</td>\n",
       "      <td>0.002716</td>\n",
       "      <td>-0.097431</td>\n",
       "    </tr>\n",
       "    <tr>\n",
       "      <th>Annual_HH_Income</th>\n",
       "      <td>0.970315</td>\n",
       "      <td>0.591222</td>\n",
       "      <td>0.430868</td>\n",
       "      <td>0.002716</td>\n",
       "      <td>1.000000</td>\n",
       "      <td>0.296679</td>\n",
       "    </tr>\n",
       "    <tr>\n",
       "      <th>No_of_Earning_Members</th>\n",
       "      <td>0.347883</td>\n",
       "      <td>0.311915</td>\n",
       "      <td>0.597482</td>\n",
       "      <td>-0.097431</td>\n",
       "      <td>0.296679</td>\n",
       "      <td>1.000000</td>\n",
       "    </tr>\n",
       "  </tbody>\n",
       "</table>\n",
       "</div>"
      ],
      "text/plain": [
       "                       Mthly_HH_Income  Mthly_HH_Expense  No_of_Fly_Members  \\\n",
       "Mthly_HH_Income               1.000000          0.649215           0.448317   \n",
       "Mthly_HH_Expense              0.649215          1.000000           0.639702   \n",
       "No_of_Fly_Members             0.448317          0.639702           1.000000   \n",
       "Emi_or_Rent_Amt               0.036976          0.405280           0.085808   \n",
       "Annual_HH_Income              0.970315          0.591222           0.430868   \n",
       "No_of_Earning_Members         0.347883          0.311915           0.597482   \n",
       "\n",
       "                       Emi_or_Rent_Amt  Annual_HH_Income  \\\n",
       "Mthly_HH_Income               0.036976          0.970315   \n",
       "Mthly_HH_Expense              0.405280          0.591222   \n",
       "No_of_Fly_Members             0.085808          0.430868   \n",
       "Emi_or_Rent_Amt               1.000000          0.002716   \n",
       "Annual_HH_Income              0.002716          1.000000   \n",
       "No_of_Earning_Members        -0.097431          0.296679   \n",
       "\n",
       "                       No_of_Earning_Members  \n",
       "Mthly_HH_Income                     0.347883  \n",
       "Mthly_HH_Expense                    0.311915  \n",
       "No_of_Fly_Members                   0.597482  \n",
       "Emi_or_Rent_Amt                    -0.097431  \n",
       "Annual_HH_Income                    0.296679  \n",
       "No_of_Earning_Members               1.000000  "
      ]
     },
     "execution_count": 12,
     "metadata": {},
     "output_type": "execute_result"
    }
   ],
   "source": [
    "data.corr()"
   ]
  },
  {
   "cell_type": "code",
   "execution_count": 13,
   "metadata": {},
   "outputs": [],
   "source": [
    "numeric_columns=[]\n",
    "for col in data.columns:\n",
    "    if (data[col].dtype !='O'):\n",
    "        numeric_columns.append(col)"
   ]
  },
  {
   "cell_type": "code",
   "execution_count": 14,
   "metadata": {},
   "outputs": [],
   "source": [
    "def mean_fun(a):\n",
    "    sum = 0\n",
    "    n = 0\n",
    "    for j in a:\n",
    "        sum = sum+j\n",
    "        n =n+1\n",
    "    return (sum/n)"
   ]
  },
  {
   "cell_type": "code",
   "execution_count": 15,
   "metadata": {},
   "outputs": [],
   "source": [
    "def std_fun(a):\n",
    "    sum = 0\n",
    "    b = mean_fun(a)\n",
    "    for j in a:\n",
    "        sum = sum + ((j-b)**2)\n",
    "    return (math.sqrt(sum/len(a)))"
   ]
  },
  {
   "cell_type": "code",
   "execution_count": 16,
   "metadata": {},
   "outputs": [
    {
     "data": {
      "text/plain": [
       "25835.611779092826"
      ]
     },
     "execution_count": 16,
     "metadata": {},
     "output_type": "execute_result"
    }
   ],
   "source": [
    "std_fun(data['Mthly_HH_Income'])"
   ]
  },
  {
   "cell_type": "code",
   "execution_count": 17,
   "metadata": {},
   "outputs": [],
   "source": [
    "def covariance_f(a,b):\n",
    "    sum = 0\n",
    "    x = mean_fun(a)\n",
    "    y = mean_fun(b)\n",
    "    for i in range(len(a)):\n",
    "        sum = sum + ((a[i]-x)*(b[i]-y))\n",
    "    return sum/len(a)"
   ]
  },
  {
   "cell_type": "code",
   "execution_count": 18,
   "metadata": {
    "scrolled": true
   },
   "outputs": [
    {
     "name": "stdout",
     "output_type": "stream",
     "text": [
      "correlation between Mthly_HH_Income Mthly_HH_Expenseis 0.6492152549316462\n",
      "correlation between Mthly_HH_Income No_of_Fly_Membersis 0.4483173135943263\n",
      "correlation between Mthly_HH_Income Emi_or_Rent_Amtis 0.03697611093890592\n",
      "correlation between Mthly_HH_Income Annual_HH_Incomeis 0.9703154166603717\n",
      "correlation between Mthly_HH_Income No_of_Earning_Membersis 0.34788345602238374\n"
     ]
    }
   ],
   "source": [
    "def correlation_fun(a,b):\n",
    "    return covariance_f(a,b)/(std_fun(a)*std_fun(b))\n",
    "\n",
    "a = numeric_columns[0]\n",
    "for i in numeric_columns:\n",
    "    if(a!=i):\n",
    "        print(\"correlation between\",a, i +\"is\",correlation_fun(data[a],data[i]))"
   ]
  },
  {
   "cell_type": "code",
   "execution_count": 19,
   "metadata": {},
   "outputs": [
    {
     "data": {
      "text/plain": [
       "0.6492152549316462"
      ]
     },
     "execution_count": 19,
     "metadata": {},
     "output_type": "execute_result"
    }
   ],
   "source": [
    "correlation_fun(data['Mthly_HH_Expense'],data['Mthly_HH_Income'])"
   ]
  },
  {
   "cell_type": "markdown",
   "metadata": {},
   "source": [
    "# Normal Distribution\n",
    "\n",
    "The normal distribution is a continuous probability distribution that is symmetrical on both sides of the mean, so the right side of the center is a mirror image of the left side. ... The normal distribution is often called the bell curve because the graph of its probability density looks like a bell.\n",
    "\n",
    "### Properties of a normal distribution\n",
    "\n",
    "The mean, mode and median are all equal. The curve is symmetric at the center (i.e. around the mean, μ). Exactly half of the values are to the left of center and exactly half the values are to the right. The total area under the curve is 1.\n",
    "\n",
    " $$\n",
    "X_{norm}=\\frac {x-x_{min}}{x_{max}-x_{min}}\n",
    "$$\n",
    "\n"
   ]
  },
  {
   "cell_type": "code",
   "execution_count": 20,
   "metadata": {},
   "outputs": [],
   "source": [
    "def normalization_fun(a):\n",
    "    maximum=max(a)\n",
    "    minimum=min(a)\n",
    "    norm_list=[]\n",
    "    for i in a:\n",
    "        value=(i-minimum)/(maximum-minimum)\n",
    "        norm_list.append(value)\n",
    "    return (norm_list)"
   ]
  },
  {
   "cell_type": "code",
   "execution_count": 21,
   "metadata": {},
   "outputs": [
    {
     "name": "stderr",
     "output_type": "stream",
     "text": [
      "C:\\ProgramData\\Anaconda3\\lib\\site-packages\\seaborn\\distributions.py:2551: FutureWarning: `distplot` is a deprecated function and will be removed in a future version. Please adapt your code to use either `displot` (a figure-level function with similar flexibility) or `histplot` (an axes-level function for histograms).\n",
      "  warnings.warn(msg, FutureWarning)\n"
     ]
    },
    {
     "data": {
      "image/png": "[encoded data removed]",
      "text/plain": [
       "<Figure size 432x288 with 1 Axes>"
      ]
     },
     "metadata": {
      "needs_background": "light"
     },
     "output_type": "display_data"
    },
    {
     "name": "stderr",
     "output_type": "stream",
     "text": [
      "C:\\ProgramData\\Anaconda3\\lib\\site-packages\\seaborn\\distributions.py:2551: FutureWarning: `distplot` is a deprecated function and will be removed in a future version. Please adapt your code to use either `displot` (a figure-level function with similar flexibility) or `histplot` (an axes-level function for histograms).\n",
      "  warnings.warn(msg, FutureWarning)\n"
     ]
    },
    {
     "data": {
      "image/png": "[encoded data removed]",
      "text/plain": [
       "<Figure size 432x288 with 1 Axes>"
      ]
     },
     "metadata": {
      "needs_background": "light"
     },
     "output_type": "display_data"
    },
    {
     "name": "stderr",
     "output_type": "stream",
     "text": [
      "C:\\ProgramData\\Anaconda3\\lib\\site-packages\\seaborn\\distributions.py:2551: FutureWarning: `distplot` is a deprecated function and will be removed in a future version. Please adapt your code to use either `displot` (a figure-level function with similar flexibility) or `histplot` (an axes-level function for histograms).\n",
      "  warnings.warn(msg, FutureWarning)\n"
     ]
    },
    {
     "data": {
      "image/png": "[encoded data removed]",
      "text/plain": [
       "<Figure size 432x288 with 1 Axes>"
      ]
     },
     "metadata": {
      "needs_background": "light"
     },
     "output_type": "display_data"
    },
    {
     "name": "stderr",
     "output_type": "stream",
     "text": [
      "C:\\ProgramData\\Anaconda3\\lib\\site-packages\\seaborn\\distributions.py:2551: FutureWarning: `distplot` is a deprecated function and will be removed in a future version. Please adapt your code to use either `displot` (a figure-level function with similar flexibility) or `histplot` (an axes-level function for histograms).\n",
      "  warnings.warn(msg, FutureWarning)\n"
     ]
    },
    {
     "data": {
      "image/png": "[encoded data removed]",
      "text/plain": [
       "<Figure size 432x288 with 1 Axes>"
      ]
     },
     "metadata": {
      "needs_background": "light"
     },
     "output_type": "display_data"
    },
    {
     "name": "stderr",
     "output_type": "stream",
     "text": [
      "C:\\ProgramData\\Anaconda3\\lib\\site-packages\\seaborn\\distributions.py:2551: FutureWarning: `distplot` is a deprecated function and will be removed in a future version. Please adapt your code to use either `displot` (a figure-level function with similar flexibility) or `histplot` (an axes-level function for histograms).\n",
      "  warnings.warn(msg, FutureWarning)\n"
     ]
    },
    {
     "data": {
      "image/png": "[encoded data removed]",
      "text/plain": [
       "<Figure size 432x288 with 1 Axes>"
      ]
     },
     "metadata": {
      "needs_background": "light"
     },
     "output_type": "display_data"
    },
    {
     "name": "stderr",
     "output_type": "stream",
     "text": [
      "C:\\ProgramData\\Anaconda3\\lib\\site-packages\\seaborn\\distributions.py:2551: FutureWarning: `distplot` is a deprecated function and will be removed in a future version. Please adapt your code to use either `displot` (a figure-level function with similar flexibility) or `histplot` (an axes-level function for histograms).\n",
      "  warnings.warn(msg, FutureWarning)\n"
     ]
    },
    {
     "data": {
      "image/png": "[encoded data removed]",
      "text/plain": [
       "<Figure size 432x288 with 1 Axes>"
      ]
     },
     "metadata": {
      "needs_background": "light"
     },
     "output_type": "display_data"
    }
   ],
   "source": [
    "for i in numeric_columns:\n",
    "\n",
    "    sns.distplot(normalization_fun(data[i]))\n",
    "    plt.show()"
   ]
  },
  {
   "cell_type": "markdown",
   "metadata": {},
   "source": [
    "# Feature of Normal Distribution\n",
    "The normal distribution is the most important probability distribution in statistics because many continuous data in nature and psychology displays this bell-shaped curve when compiled and graphed.\n",
    "\n",
    "The most powerful (parametric) statistical tests used by psychologists require data to be normally distributed. If the data does not resemble a bell curve researchers may have to use a less powerful type of statistical test, called non-parametric statistics.\n",
    "\n",
    "We can standardized the values (raw scores) of a normal distribution by converting them into z-scores.\n",
    "\n",
    "This procedure allows researchers to determine the proportion of the values that fall within a specified number of standard deviations from the mean (i.e. calculate the empirical rule).\n",
    "\n",
    "The empirical rule in statistics allows researchers to determine the proportion of values that fall within certain distances from the mean. The empirical rule is often referred to as the three-sigma rule or the 68-95-99.7 rule\n",
    "\n",
    "1.The mean, mode and median are all equal.\n",
    "\n",
    "2.The curve is symmetric at the center (i.e. around the mean, μ).\n",
    "\n",
    "3.Exactly half of the values are to the left of center and exactly half the values are to the right.\n",
    "\n",
    "4.The total area under the curve is 1."
   ]
  },
  {
   "cell_type": "markdown",
   "metadata": {},
   "source": [
    "# Positively Skewed and Negatively Skewed Normal Distribution\n",
    "\n",
    "Besides positive and negative skew, distributions can also be said to have zero or undefined skew. In the curve of a distribution, the data on the right side of the curve may taper differently from the data on the left side. These taperings are known as \"tails.\" Negative skew refers to a longer or fatter tail on the left side of the distribution, while positive skew refers to a longer or fatter tail on the right.\n",
    "\n",
    "\n",
    "$$\n",
    " skewness = \\frac{3(mean-median)}{standarddeviation}\n",
    "$$\n",
    "\n"
   ]
  },
  {
   "cell_type": "code",
   "execution_count": 22,
   "metadata": {},
   "outputs": [],
   "source": [
    "def median_fun(a):\n",
    "    k = len(data)/2\n",
    "    if (len(a)%2==0):\n",
    "        s_l=sorted(list(a),reverse=True)\n",
    "        m=(s_l[int(k)-1]+s_l[int(k)])/2\n",
    "        return (m)"
   ]
  },
  {
   "cell_type": "code",
   "execution_count": 23,
   "metadata": {},
   "outputs": [],
   "source": [
    "def  skewness_fun(a):\n",
    "   a=((mean_fun(a)-median_fun(a)))/std_fun(a)\n",
    "   return a"
   ]
  },
  {
   "cell_type": "code",
   "execution_count": 24,
   "metadata": {
    "scrolled": false
   },
   "outputs": [
    {
     "name": "stdout",
     "output_type": "stream",
     "text": [
      "Mthly_HH_Income  Skewness is  0.253835676742402\n",
      "Mthly_HH_Expense  Skewness is  0.2772229970354436\n",
      "No_of_Fly_Members  Skewness is  0.03994323218711281\n",
      "Emi_or_Rent_Amt  Skewness is  0.49524937972151156\n",
      "Annual_HH_Income  Skewness is  0.13441648734800632\n",
      "No_of_Earning_Members  Skewness is  0.6328145078635634\n"
     ]
    }
   ],
   "source": [
    "for i in numeric_columns:\n",
    "    print(i+\"  Skewness is \",skewness_fun(data[i]))\n"
   ]
  },
  {
   "cell_type": "code",
   "execution_count": 25,
   "metadata": {
    "scrolled": true
   },
   "outputs": [
    {
     "name": "stdout",
     "output_type": "stream",
     "text": [
      "0.9246148763777229\n",
      "1.1994608030097127\n",
      "0.11367415455857431\n",
      "3.403679844103547\n",
      "1.1929490975818218\n",
      "1.5933009869600223\n"
     ]
    }
   ],
   "source": [
    "for i in numeric_columns:\n",
    "    print(data[i].skew())"
   ]
  }
 ],
 "metadata": {
  "kernelspec": {
   "display_name": "Python 3",
   "language": "python",
   "name": "python3"
  },
  "language_info": {
   "codemirror_mode": {
    "name": "ipython",
    "version": 3
   },
   "file_extension": ".py",
   "mimetype": "text/x-python",
   "name": "python",
   "nbconvert_exporter": "python",
   "pygments_lexer": "ipython3",
   "version": "3.6.9"
  }
 },
 "nbformat": 4,
 "nbformat_minor": 4
}
